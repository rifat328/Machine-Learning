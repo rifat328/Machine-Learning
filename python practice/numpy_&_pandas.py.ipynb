{
 "cells": [
  {
   "cell_type": "code",
   "execution_count": 1,
   "id": "64f8a1b0",
   "metadata": {},
   "outputs": [],
   "source": [
    "import numpy as np\n",
    "import pandas as pd"
   ]
  },
  {
   "cell_type": "code",
   "execution_count": 2,
   "id": "f2e6d674",
   "metadata": {},
   "outputs": [
    {
     "data": {
      "text/plain": [
       "'1.23.2'"
      ]
     },
     "execution_count": 2,
     "metadata": {},
     "output_type": "execute_result"
    }
   ],
   "source": [
    "np.__version__"
   ]
  },
  {
   "cell_type": "code",
   "execution_count": 4,
   "id": "37096be6",
   "metadata": {},
   "outputs": [],
   "source": [
    "#np array from list\n",
    "arr1=np.array([2,3,4,5,5,6,7,8,9,0,1])"
   ]
  },
  {
   "cell_type": "code",
   "execution_count": 5,
   "id": "e2caae30",
   "metadata": {},
   "outputs": [
    {
     "data": {
      "text/plain": [
       "array([2, 3, 4, 5, 5, 6, 7, 8, 9, 0, 1])"
      ]
     },
     "execution_count": 5,
     "metadata": {},
     "output_type": "execute_result"
    }
   ],
   "source": [
    "arr1"
   ]
  },
  {
   "cell_type": "code",
   "execution_count": 12,
   "id": "d66c39e0",
   "metadata": {},
   "outputs": [
    {
     "data": {
      "text/plain": [
       "array([ 1. ,  2.3,  4.7,  2. ,  3. ,  4. ,  5. ,  6. ,  7. ,  8. ,  9. ,\n",
       "       10. ])"
      ]
     },
     "execution_count": 12,
     "metadata": {},
     "output_type": "execute_result"
    }
   ],
   "source": [
    "# automatic  upcasting to another data type\n",
    "arr2=np.array([1,2.3,4.7,2,3,4,5,6,7,8,9,10])\n",
    "arr2 #upcasted to float bec it was easyer to done and doing so no data was lost (see the result)\n"
   ]
  },
  {
   "cell_type": "code",
   "execution_count": 14,
   "id": "68c42a6f",
   "metadata": {},
   "outputs": [
    {
     "data": {
      "text/plain": [
       "array([2., 3., 4., 5.], dtype=float32)"
      ]
     },
     "execution_count": 14,
     "metadata": {},
     "output_type": "execute_result"
    }
   ],
   "source": [
    "# Explicitly set the datatype using `dtype` keyword.\n",
    "arr3=np.array([2,3,4,5],dtype='float32')\n",
    "arr3\n"
   ]
  },
  {
   "cell_type": "code",
   "execution_count": 23,
   "id": "84f71cad",
   "metadata": {},
   "outputs": [
    {
     "data": {
      "text/plain": [
       "array([0, 0, 0, 0, 0, 0, 0, 0, 0, 0], dtype=int16)"
      ]
     },
     "execution_count": 23,
     "metadata": {},
     "output_type": "execute_result"
    }
   ],
   "source": [
    "#Creating arrays from scratch \n",
    "# Create a length-10 integer array filled with zeros\n",
    "arr4=np.zeros(10,dtype=np.int16)\n",
    "arr4"
   ]
  },
  {
   "cell_type": "code",
   "execution_count": 25,
   "id": "21141869",
   "metadata": {},
   "outputs": [
    {
     "data": {
      "text/plain": [
       "array([1, 1, 1, 1, 1, 1, 1, 1, 1, 1], dtype=int16)"
      ]
     },
     "execution_count": 25,
     "metadata": {},
     "output_type": "execute_result"
    }
   ],
   "source": [
    "# Create a length-10 integer array filled with ones\n",
    "arr5=np.ones(10,dtype=np.int16)\n",
    "arr5"
   ]
  },
  {
   "cell_type": "code",
   "execution_count": 32,
   "id": "03401426",
   "metadata": {},
   "outputs": [
    {
     "data": {
      "text/plain": [
       "array([0., 0., 0., 0., 0., 0., 0., 0., 0., 0.])"
      ]
     },
     "execution_count": 32,
     "metadata": {},
     "output_type": "execute_result"
    }
   ],
   "source": [
    "# Create a length-10 floating point array filled with zeros\n",
    "np.zeros(10, dtype=np.float64) # float64 is default size for float of this"
   ]
  },
  {
   "cell_type": "code",
   "execution_count": 33,
   "id": "2fad3431",
   "metadata": {},
   "outputs": [
    {
     "data": {
      "text/plain": [
       "array([[1., 1., 1., 1.],\n",
       "       [1., 1., 1., 1.],\n",
       "       [1., 1., 1., 1.]])"
      ]
     },
     "execution_count": 33,
     "metadata": {},
     "output_type": "execute_result"
    }
   ],
   "source": [
    "# Create a 3x4 floating-point array filled with ones\n",
    "arr6=np.ones((3,4),dtype=np.float64)\n",
    "arr6 \n"
   ]
  },
  {
   "cell_type": "code",
   "execution_count": 36,
   "id": "f799497a",
   "metadata": {},
   "outputs": [
    {
     "data": {
      "text/plain": [
       "array([[2.1416, 2.1416, 2.1416, 2.1416],\n",
       "       [2.1416, 2.1416, 2.1416, 2.1416],\n",
       "       [2.1416, 2.1416, 2.1416, 2.1416]])"
      ]
     },
     "execution_count": 36,
     "metadata": {},
     "output_type": "execute_result"
    }
   ],
   "source": [
    "#how to creat an array with specific number \n",
    "# Create a 3x4 array filled with 2.1416\n",
    "np.full((3,4),2.1416)#how to create an array with specific number"
   ]
  },
  {
   "cell_type": "code",
   "execution_count": 39,
   "id": "16e9058a",
   "metadata": {},
   "outputs": [
    {
     "data": {
      "text/plain": [
       "array([ 2,  4,  6,  8, 10])"
      ]
     },
     "execution_count": 39,
     "metadata": {},
     "output_type": "execute_result"
    }
   ],
   "source": [
    "# Create an array filled with a linear sequence\n",
    "# using np.arange(start, end, step)\n",
    "# (this is similar to the built-in range() function)\n",
    "arr7=np.arange(2,11,2)\n",
    "arr7"
   ]
  },
  {
   "cell_type": "code",
   "execution_count": 38,
   "id": "7704dff1",
   "metadata": {},
   "outputs": [
    {
     "data": {
      "text/plain": [
       "array([['rifat', 'rifat', 'rifat', 'rifat', 'rifat'],\n",
       "       ['rifat', 'rifat', 'rifat', 'rifat', 'rifat'],\n",
       "       ['rifat', 'rifat', 'rifat', 'rifat', 'rifat'],\n",
       "       ['rifat', 'rifat', 'rifat', 'rifat', 'rifat']], dtype='<U5')"
      ]
     },
     "execution_count": 38,
     "metadata": {},
     "output_type": "execute_result"
    }
   ],
   "source": [
    "#full also work with strings\n",
    "np.full((4,5),'rifat')"
   ]
  },
  {
   "cell_type": "code",
   "execution_count": 40,
   "id": "ff78486d",
   "metadata": {},
   "outputs": [
    {
     "data": {
      "text/plain": [
       "array([0.  , 0.25, 0.5 , 0.75, 1.  ])"
      ]
     },
     "execution_count": 40,
     "metadata": {},
     "output_type": "execute_result"
    }
   ],
   "source": [
    "# Create an array of five values evenly spaced between 0 and 1\n",
    "np.linspace(0,1,5)"
   ]
  },
  {
   "cell_type": "code",
   "execution_count": 41,
   "id": "8048f2cc",
   "metadata": {},
   "outputs": [
    {
     "data": {
      "text/plain": [
       "array([0.        , 0.22222222, 0.44444444, 0.66666667, 0.88888889,\n",
       "       1.11111111, 1.33333333, 1.55555556, 1.77777778, 2.        ])"
      ]
     },
     "execution_count": 41,
     "metadata": {},
     "output_type": "execute_result"
    }
   ],
   "source": [
    "#create an array of 10 values evenly apaced between 0 and 2\n",
    "np.linspace(0,2,10)"
   ]
  },
  {
   "cell_type": "code",
   "execution_count": 54,
   "id": "1bef38ad",
   "metadata": {},
   "outputs": [
    {
     "data": {
      "text/plain": [
       "array([[0.54619946, 0.16507116, 0.95165154],\n",
       "       [0.9056493 , 0.51507776, 0.88391588],\n",
       "       [0.56129203, 0.79458858, 0.14754601]])"
      ]
     },
     "execution_count": 54,
     "metadata": {},
     "output_type": "execute_result"
    }
   ],
   "source": [
    "# Create a 3x3 array of uniformly distributed\n",
    "# random values between 0 and 1\n",
    "np.random.random((3,3))\n",
    "# Create a 3x3 array of normally distributed"
   ]
  },
  {
   "cell_type": "code",
   "execution_count": 48,
   "id": "14551cc4",
   "metadata": {},
   "outputs": [
    {
     "data": {
      "text/plain": [
       "array([[ 0.17556786,  0.08924484,  1.14145398],\n",
       "       [-0.47097848, -0.01904321, -1.38239321],\n",
       "       [ 0.1336426 ,  0.67819297,  0.35528096]])"
      ]
     },
     "execution_count": 48,
     "metadata": {},
     "output_type": "execute_result"
    }
   ],
   "source": [
    "# Create a 3x3 array of normally distributed random values\n",
    "# with mean 0 and standard deviation 1\n",
    "test=np.random.normal(0,1,(3,3))\n",
    "test"
   ]
  },
  {
   "cell_type": "code",
   "execution_count": 49,
   "id": "16812855",
   "metadata": {},
   "outputs": [
    {
     "data": {
      "text/plain": [
       "[<matplotlib.lines.Line2D at 0x21124f2e140>,\n",
       " <matplotlib.lines.Line2D at 0x21124f2f220>,\n",
       " <matplotlib.lines.Line2D at 0x21124f2f340>]"
      ]
     },
     "execution_count": 49,
     "metadata": {},
     "output_type": "execute_result"
    },
    {
     "data": {
      "image/png": "[encoded data removed]",
      "text/plain": [
       "<Figure size 640x480 with 1 Axes>"
      ]
     },
     "metadata": {},
     "output_type": "display_data"
    }
   ],
   "source": [
    "import matplotlib.pyplot as mlt\n",
    "mlt.plot(test)"
   ]
  },
  {
   "cell_type": "code",
   "execution_count": 55,
   "id": "ec50d50b",
   "metadata": {},
   "outputs": [
    {
     "data": {
      "text/plain": [
       "array([[0.49085026, 0.07327717, 0.14639237],\n",
       "       [0.71194324, 0.59375239, 0.66124795],\n",
       "       [0.19035375, 0.42777159, 0.27299008]])"
      ]
     },
     "execution_count": 55,
     "metadata": {},
     "output_type": "execute_result"
    }
   ],
   "source": [
    "teat2=np.random.random((3,3))\n",
    "test2# In[ ]:"
   ]
  },
  {
   "cell_type": "code",
   "execution_count": 56,
   "id": "6cf68c87",
   "metadata": {},
   "outputs": [
    {
     "data": {
      "text/plain": [
       "[<matplotlib.lines.Line2D at 0x21128204040>,\n",
       " <matplotlib.lines.Line2D at 0x211282040a0>,\n",
       " <matplotlib.lines.Line2D at 0x211282041c0>]"
      ]
     },
     "execution_count": 56,
     "metadata": {},
     "output_type": "execute_result"
    },
    {
     "data": {
      "image/png": "[encoded data removed]",
      "text/plain": [
       "<Figure size 640x480 with 1 Axes>"
      ]
     },
     "metadata": {},
     "output_type": "display_data"
    }
   ],
   "source": [
    "mlt.plot(test2)"
   ]
  },
  {
   "cell_type": "code",
   "execution_count": 60,
   "id": "e7890ed6",
   "metadata": {},
   "outputs": [
    {
     "data": {
      "text/plain": [
       "array([[6, 0, 9],\n",
       "       [9, 6, 8],\n",
       "       [3, 9, 0]])"
      ]
     },
     "execution_count": 60,
     "metadata": {},
     "output_type": "execute_result"
    }
   ],
   "source": [
    "# Create a 3x3 array of random integers in the interval [0, 10)\n",
    "random_int=np.random.randint( 0,10,(3,3))\n",
    "random_int# Create a 3x3 array of random floats in the interval [0, 10)"
   ]
  },
  {
   "cell_type": "code",
   "execution_count": 61,
   "id": "c0b2c349",
   "metadata": {},
   "outputs": [
    {
     "data": {
      "text/plain": [
       "array([[1., 0., 0., 0., 0.],\n",
       "       [0., 1., 0., 0., 0.],\n",
       "       [0., 0., 1., 0., 0.],\n",
       "       [0., 0., 0., 1., 0.],\n",
       "       [0., 0., 0., 0., 1.]])"
      ]
     },
     "execution_count": 61,
     "metadata": {},
     "output_type": "execute_result"
    }
   ],
   "source": [
    "# Create a 5x5 identity matrix\n",
    "'''What is identity matrix?\n",
    "a square matrix in which all the elements of the principal diagonal are ones and all other elements are zeros.\n",
    "The effect of multiplying a given matrix by an identity matrix is to leave the given matrix unchanged\n",
    "'''\n",
    "np.eye(5)"
   ]
  },
  {
   "cell_type": "code",
   "execution_count": 62,
   "id": "9e5bc249",
   "metadata": {},
   "outputs": [
    {
     "data": {
      "text/plain": [
       "array([1., 1., 1., 1., 1.])"
      ]
     },
     "execution_count": 62,
     "metadata": {},
     "output_type": "execute_result"
    }
   ],
   "source": [
    "# Create an uninitialized array of five integers\n",
    "# The values will be whatever happens to already exist at that memory location\n",
    "np.empty(5)"
   ]
  },
  {
   "cell_type": "code",
   "execution_count": 67,
   "id": "c2e018aa",
   "metadata": {},
   "outputs": [],
   "source": [
    "# seed for reproducibility\n",
    "# Ensure that the same random arrays are generated each time this code is run\n",
    "'''The seed() method is used to initialize the random number generator. The random number generator needs a number\n",
    "to start with (a seed value), to be able to generate a random number. \n",
    "By default the random number generator uses the current system time.\n",
    "'''\n",
    "np.random.seed(0)\n",
    "x=np.random.randint(10,size=6) #1 dimentional \n",
    "x1=np.random.randint(10,size=(3,4))# 2 dimentional\n",
    "x2=np.random.randint(10,size=(3,4,5))#3 dimentional Create a random array# Create a random array\n",
    "#3,4,5 works backword 5 column, 4 row, and 3 matrix like that"
   ]
  },
  {
   "cell_type": "code",
   "execution_count": 68,
   "id": "c9d3174d",
   "metadata": {},
   "outputs": [
    {
     "data": {
      "text/plain": [
       "array([5, 0, 3, 3, 7, 9])"
      ]
     },
     "execution_count": 68,
     "metadata": {},
     "output_type": "execute_result"
    }
   ],
   "source": [
    "x"
   ]
  },
  {
   "cell_type": "code",
   "execution_count": 69,
   "id": "ff1ad4f7",
   "metadata": {},
   "outputs": [
    {
     "data": {
      "text/plain": [
       "array([[3, 5, 2, 4],\n",
       "       [7, 6, 8, 8],\n",
       "       [1, 6, 7, 7]])"
      ]
     },
     "execution_count": 69,
     "metadata": {},
     "output_type": "execute_result"
    }
   ],
   "source": [
    "x1"
   ]
  },
  {
   "cell_type": "code",
   "execution_count": 70,
   "id": "d2380e5a",
   "metadata": {},
   "outputs": [
    {
     "data": {
      "text/plain": [
       "array([[[8, 1, 5, 9, 8],\n",
       "        [9, 4, 3, 0, 3],\n",
       "        [5, 0, 2, 3, 8],\n",
       "        [1, 3, 3, 3, 7]],\n",
       "\n",
       "       [[0, 1, 9, 9, 0],\n",
       "        [4, 7, 3, 2, 7],\n",
       "        [2, 0, 0, 4, 5],\n",
       "        [5, 6, 8, 4, 1]],\n",
       "\n",
       "       [[4, 9, 8, 1, 1],\n",
       "        [7, 9, 9, 3, 6],\n",
       "        [7, 2, 0, 3, 5],\n",
       "        [9, 4, 4, 6, 4]]])"
      ]
     },
     "execution_count": 70,
     "metadata": {},
     "output_type": "execute_result"
    }
   ],
   "source": [
    "x2        #3,4,5 works backword 5 column, 4 row, and 3 matrix like that"
   ]
  },
  {
   "cell_type": "code",
   "execution_count": 72,
   "id": "373d07aa",
   "metadata": {},
   "outputs": [
    {
     "name": "stdout",
     "output_type": "stream",
     "text": [
      "x3 ndim:  3\n",
      "x3 shape: (3, 4, 5)\n",
      "x3 size:  60\n",
      "x3 dtype: int32\n",
      "x3 itemsize: 4 bytes\n",
      "x3 nbytes: 240 bytes\n"
     ]
    }
   ],
   "source": [
    "# Example of NumPy array attributes\n",
    "print(\"x2 ndim: \", x2.ndim) # ndim (the number of dimensions)\n",
    "print(\"x2 shape:\", x2.shape) # shape (the size of each dimension)\n",
    "print(\"x2 size: \", x2.size) # size (the total size of the array)\n",
    "print(\"x2 dtype:\", x2.dtype) # data type of the array\n",
    "print(\"x2 itemsize:\", x2.itemsize, \"bytes\") # size (in bytes) of each array element# Example of NumPy array methods\n",
    "print(\"x2 nbytes:\", x2.nbytes, \"bytes\") # total size (in bytes) of the array"
   ]
  },
  {
   "cell_type": "code",
   "execution_count": 73,
   "id": "de2802d2",
   "metadata": {},
   "outputs": [
    {
     "name": "stdout",
     "output_type": "stream",
     "text": [
      "x1 ndim:  2\n",
      "x1 shape: (3, 4, 5)\n",
      "x1 size:  60\n",
      "x1 dtype: int32\n",
      "x1 itemsize: 4 bytes\n",
      "x1 nbytes: 240 bytes\n"
     ]
    }
   ],
   "source": [
    "print(\"x1 ndim: \", x1.ndim) # ndim (the number of dimensions)\n",
    "print(\"x1 shape:\", x2.shape) # shape (the size of each dimension)\n",
    "print(\"x1 size: \", x2.size) # size (the total size of the array)\n",
    "print(\"x1 dtype:\", x2.dtype) # data type of the array\n",
    "print(\"x1 itemsize:\", x2.itemsize, \"bytes\") # size (in bytes) of each array element# Example of NumPy array methods\n",
    "print(\"x1 nbytes:\", x2.nbytes, \"bytes\") # total size (in bytes) of the array"
   ]
  },
  {
   "cell_type": "code",
   "execution_count": 74,
   "id": "07c078ea",
   "metadata": {},
   "outputs": [
    {
     "data": {
      "text/plain": [
       "array([3, 5, 2, 4])"
      ]
     },
     "execution_count": 74,
     "metadata": {},
     "output_type": "execute_result"
    }
   ],
   "source": [
    "x1[0] # first element"
   ]
  },
  {
   "cell_type": "code",
   "execution_count": 75,
   "id": "ba815e2b",
   "metadata": {},
   "outputs": [
    {
     "data": {
      "text/plain": [
       "array([[3, 5, 2, 4],\n",
       "       [7, 6, 8, 8],\n",
       "       [1, 6, 7, 7]])"
      ]
     },
     "execution_count": 75,
     "metadata": {},
     "output_type": "execute_result"
    }
   ],
   "source": [
    "x1"
   ]
  },
  {
   "cell_type": "code",
   "execution_count": 76,
   "id": "ce96e8b7",
   "metadata": {},
   "outputs": [
    {
     "data": {
      "text/plain": [
       "5"
      ]
     },
     "execution_count": 76,
     "metadata": {},
     "output_type": "execute_result"
    }
   ],
   "source": [
    "x[0]"
   ]
  },
  {
   "cell_type": "code",
   "execution_count": 77,
   "id": "e5c31e01",
   "metadata": {},
   "outputs": [
    {
     "data": {
      "text/plain": [
       "3"
      ]
     },
     "execution_count": 77,
     "metadata": {},
     "output_type": "execute_result"
    }
   ],
   "source": [
    "x1[0,0]"
   ]
  },
  {
   "cell_type": "code",
   "execution_count": 79,
   "id": "77f2e84d",
   "metadata": {},
   "outputs": [
    {
     "data": {
      "text/plain": [
       "5"
      ]
     },
     "execution_count": 79,
     "metadata": {},
     "output_type": "execute_result"
    }
   ],
   "source": [
    "x1[0,1]"
   ]
  },
  {
   "cell_type": "code",
   "execution_count": 82,
   "id": "28d690d4",
   "metadata": {},
   "outputs": [
    {
     "data": {
      "text/plain": [
       "4"
      ]
     },
     "execution_count": 82,
     "metadata": {},
     "output_type": "execute_result"
    }
   ],
   "source": [
    "#negative indaxing if \n",
    "x1[0,-1]"
   ]
  },
  {
   "cell_type": "code",
   "execution_count": 83,
   "id": "fd67d35e",
   "metadata": {},
   "outputs": [
    {
     "data": {
      "text/plain": [
       "array([[2, 2, 2, 2],\n",
       "       [7, 6, 8, 8],\n",
       "       [1, 6, 7, 7]])"
      ]
     },
     "execution_count": 83,
     "metadata": {},
     "output_type": "execute_result"
    }
   ],
   "source": [
    "x1[0] = 2.1416 # this will be truncated!\n",
    "x1"
   ]
  },
  {
   "cell_type": "code",
   "execution_count": 84,
   "id": "e6854c5e",
   "metadata": {},
   "outputs": [
    {
     "data": {
      "text/plain": [
       "array([5, 0, 3, 3, 7])"
      ]
     },
     "execution_count": 84,
     "metadata": {},
     "output_type": "execute_result"
    }
   ],
   "source": [
    "# first five elements\n",
    "x[:5]"
   ]
  },
  {
   "cell_type": "code",
   "execution_count": 85,
   "id": "0342ab30",
   "metadata": {},
   "outputs": [
    {
     "data": {
      "text/plain": [
       "array([9])"
      ]
     },
     "execution_count": 85,
     "metadata": {},
     "output_type": "execute_result"
    }
   ],
   "source": [
    "# elements from index 5\n",
    "x[5:]"
   ]
  },
  {
   "cell_type": "code",
   "execution_count": 86,
   "id": "dd642355",
   "metadata": {},
   "outputs": [
    {
     "data": {
      "text/plain": [
       "array([5, 0, 3, 3, 7, 9])"
      ]
     },
     "execution_count": 86,
     "metadata": {},
     "output_type": "execute_result"
    }
   ],
   "source": [
    "x"
   ]
  },
  {
   "cell_type": "code",
   "execution_count": 88,
   "id": "9613fab9",
   "metadata": {},
   "outputs": [
    {
     "data": {
      "text/plain": [
       "array([3, 7, 9])"
      ]
     },
     "execution_count": 88,
     "metadata": {},
     "output_type": "execute_result"
    }
   ],
   "source": [
    "# sub-array from index 3 to 5\n",
    "x[3:6]"
   ]
  },
  {
   "cell_type": "code",
   "execution_count": 92,
   "id": "ce3aac47",
   "metadata": {},
   "outputs": [
    {
     "ename": "IndentationError",
     "evalue": "unexpected indent (3887461097.py, line 2)",
     "output_type": "error",
     "traceback": [
      "\u001b[1;36m  Input \u001b[1;32mIn [92]\u001b[1;36m\u001b[0m\n\u001b[1;33m    x[::2]\u001b[0m\n\u001b[1;37m    ^\u001b[0m\n\u001b[1;31mIndentationError\u001b[0m\u001b[1;31m:\u001b[0m unexpected indent\n"
     ]
    }
   ],
   "source": [
    "#starting from 0 and step is 2\n",
    " x[::2]"
   ]
  },
  {
   "cell_type": "code",
   "execution_count": 93,
   "id": "e962332d",
   "metadata": {},
   "outputs": [
    {
     "data": {
      "text/plain": [
       "array([0, 3, 9])"
      ]
     },
     "execution_count": 93,
     "metadata": {},
     "output_type": "execute_result"
    }
   ],
   "source": [
    "# starting from 1 and step is 2\n",
    "x[1::2]\n"
   ]
  },
  {
   "cell_type": "code",
   "execution_count": 94,
   "id": "d71a52d0",
   "metadata": {},
   "outputs": [
    {
     "data": {
      "text/plain": [
       "array([9, 3, 0])"
      ]
     },
     "execution_count": 94,
     "metadata": {},
     "output_type": "execute_result"
    }
   ],
   "source": [
    "# reversed every other from index 5\n",
    "x[5::-2]"
   ]
  },
  {
   "cell_type": "code",
   "execution_count": 95,
   "id": "a605135f",
   "metadata": {},
   "outputs": [
    {
     "data": {
      "text/plain": [
       "array([[2, 2, 2, 2],\n",
       "       [7, 6, 8, 8],\n",
       "       [1, 6, 7, 7]])"
      ]
     },
     "execution_count": 95,
     "metadata": {},
     "output_type": "execute_result"
    }
   ],
   "source": [
    "x1"
   ]
  },
  {
   "cell_type": "code",
   "execution_count": 96,
   "id": "0a6a01a6",
   "metadata": {},
   "outputs": [
    {
     "data": {
      "text/plain": [
       "array([[2, 2, 2],\n",
       "       [7, 6, 8],\n",
       "       [1, 6, 7]])"
      ]
     },
     "execution_count": 96,
     "metadata": {},
     "output_type": "execute_result"
    }
   ],
   "source": [
    "# two rows, three columns\n",
    "x1[:3,:3]\n"
   ]
  },
  {
   "cell_type": "code",
   "execution_count": 97,
   "id": "13d46b02",
   "metadata": {},
   "outputs": [
    {
     "data": {
      "text/plain": [
       "array([[2, 2],\n",
       "       [8, 6],\n",
       "       [7, 6]])"
      ]
     },
     "execution_count": 97,
     "metadata": {},
     "output_type": "execute_result"
    }
   ],
   "source": [
    "# all rows, every other column\n",
    "x1[:,::-2]"
   ]
  },
  {
   "cell_type": "code",
   "execution_count": 98,
   "id": "7cb7dec5",
   "metadata": {},
   "outputs": [
    {
     "data": {
      "text/plain": [
       "array([[2, 2, 2, 2],\n",
       "       [7, 6, 8, 8],\n",
       "       [1, 6, 7, 7]])"
      ]
     },
     "execution_count": 98,
     "metadata": {},
     "output_type": "execute_result"
    }
   ],
   "source": [
    "x1"
   ]
  },
  {
   "cell_type": "code",
   "execution_count": 99,
   "id": "005a431b",
   "metadata": {},
   "outputs": [
    {
     "data": {
      "text/plain": [
       "array([[7, 7, 6, 1],\n",
       "       [8, 8, 6, 7],\n",
       "       [2, 2, 2, 2]])"
      ]
     },
     "execution_count": 99,
     "metadata": {},
     "output_type": "execute_result"
    }
   ],
   "source": [
    "# reversed\n",
    "x1[::-1,::-1]"
   ]
  },
  {
   "cell_type": "code",
   "execution_count": 100,
   "id": "f3323d3b",
   "metadata": {},
   "outputs": [
    {
     "name": "stdout",
     "output_type": "stream",
     "text": [
      "[2 7 1]\n"
     ]
    }
   ],
   "source": [
    "#combination of indaxing and slicing\n",
    "print(x1[:,0])\n",
    " # first column of x1"
   ]
  },
  {
   "cell_type": "code",
   "execution_count": 102,
   "id": "69d1b30d",
   "metadata": {},
   "outputs": [
    {
     "data": {
      "text/plain": [
       "array([2, 2, 2, 2])"
      ]
     },
     "execution_count": 102,
     "metadata": {},
     "output_type": "execute_result"
    }
   ],
   "source": [
    "x1[0]"
   ]
  },
  {
   "cell_type": "code",
   "execution_count": 103,
   "id": "38436b91",
   "metadata": {},
   "outputs": [
    {
     "name": "stdout",
     "output_type": "stream",
     "text": [
      "[2 2 2 2]\n"
     ]
    }
   ],
   "source": [
    "print(x1[0, :]) \n",
    "# first row of x1"
   ]
  },
  {
   "cell_type": "code",
   "execution_count": 104,
   "id": "badd53ef",
   "metadata": {},
   "outputs": [
    {
     "name": "stdout",
     "output_type": "stream",
     "text": [
      "[[2 2]\n",
      " [7 6]]\n"
     ]
    }
   ],
   "source": [
    "# extract a 2×2 subarray from x1 array\n",
    "x1_sub = x1[:2, :2]\n",
    "print(x1_sub)"
   ]
  },
  {
   "cell_type": "code",
   "execution_count": 105,
   "id": "cd72970c",
   "metadata": {},
   "outputs": [
    {
     "name": "stdout",
     "output_type": "stream",
     "text": [
      "[[88  2]\n",
      " [ 7  6]]\n"
     ]
    }
   ],
   "source": [
    "# modify x2_sub subarray\n",
    "x1_sub[0, 0] = 88\n",
    "print(x1_sub)"
   ]
  },
  {
   "cell_type": "code",
   "execution_count": 106,
   "id": "55bbc5e4",
   "metadata": {},
   "outputs": [
    {
     "data": {
      "text/plain": [
       "array([[88,  2,  2,  2],\n",
       "       [ 7,  6,  8,  8],\n",
       "       [ 1,  6,  7,  7]])"
      ]
     },
     "execution_count": 106,
     "metadata": {},
     "output_type": "execute_result"
    }
   ],
   "source": [
    "#Creating copies of arrays\n",
    "x1# original"
   ]
  },
  {
   "cell_type": "code",
   "execution_count": 111,
   "id": "b63463c4",
   "metadata": {},
   "outputs": [
    {
     "data": {
      "text/plain": [
       "array([[88,  2],\n",
       "       [ 7,  6]])"
      ]
     },
     "execution_count": 111,
     "metadata": {},
     "output_type": "execute_result"
    }
   ],
   "source": [
    "x1_sub_copy=x1[:2,:2].copy()\n",
    "x1_sub_copy"
   ]
  },
  {
   "cell_type": "code",
   "execution_count": 112,
   "id": "f51a6d53",
   "metadata": {},
   "outputs": [
    {
     "name": "stdout",
     "output_type": "stream",
     "text": [
      "[[99  2]\n",
      " [ 7  6]]\n"
     ]
    }
   ],
   "source": [
    "x1_sub_copy[0,0]=99\n",
    "print(x1_sub_copy)"
   ]
  },
  {
   "cell_type": "code",
   "execution_count": 113,
   "id": "641578c7",
   "metadata": {},
   "outputs": [
    {
     "data": {
      "text/plain": [
       "array([[88,  2],\n",
       "       [ 7,  6]])"
      ]
     },
     "execution_count": 113,
     "metadata": {},
     "output_type": "execute_result"
    }
   ],
   "source": [
    "x1_sub_copy2=x1[:2,:2]\n",
    "x1_sub_copy2"
   ]
  },
  {
   "cell_type": "code",
   "execution_count": 114,
   "id": "fa7ef440",
   "metadata": {},
   "outputs": [],
   "source": [
    "x1_sub_copy2[0,0]=99"
   ]
  },
  {
   "cell_type": "code",
   "execution_count": 115,
   "id": "e8bf5736",
   "metadata": {},
   "outputs": [
    {
     "data": {
      "text/plain": [
       "array([[99,  2],\n",
       "       [ 7,  6]])"
      ]
     },
     "execution_count": 115,
     "metadata": {},
     "output_type": "execute_result"
    }
   ],
   "source": [
    "x1_sub_copy2"
   ]
  },
  {
   "cell_type": "code",
   "execution_count": 116,
   "id": "7b98f71b",
   "metadata": {},
   "outputs": [
    {
     "data": {
      "text/plain": [
       "array([[99,  2,  2,  2],\n",
       "       [ 7,  6,  8,  8],\n",
       "       [ 1,  6,  7,  7]])"
      ]
     },
     "execution_count": 116,
     "metadata": {},
     "output_type": "execute_result"
    }
   ],
   "source": [
    "x1"
   ]
  },
  {
   "cell_type": "code",
   "execution_count": 117,
   "id": "022f873b",
   "metadata": {},
   "outputs": [
    {
     "name": "stdout",
     "output_type": "stream",
     "text": [
      "[[1 2 3]\n",
      " [4 5 6]\n",
      " [7 8 9]]\n"
     ]
    }
   ],
   "source": [
    "#rshaping of an array \n",
    "'''Reshaping of Arrays\n",
    "Using reshape() method\n",
    "Size of the initial array must match the size of the reshaped array\n",
    "'''\n",
    "grid = np.arange(1, 10).reshape((3,3))\n",
    "print(grid)"
   ]
  },
  {
   "cell_type": "code",
   "execution_count": 118,
   "id": "27ae03f3",
   "metadata": {},
   "outputs": [
    {
     "data": {
      "text/plain": [
       "array([1, 2, 3, 4, 5, 6, 7, 8, 9, 0])"
      ]
     },
     "execution_count": 118,
     "metadata": {},
     "output_type": "execute_result"
    }
   ],
   "source": [
    "p=np.array([1,2,3,4,5,6,7,8,9,0])\n",
    "p#print(grid)"
   ]
  },
  {
   "cell_type": "code",
   "execution_count": 120,
   "id": "3f4e2c59",
   "metadata": {},
   "outputs": [
    {
     "data": {
      "text/plain": [
       "array([[1, 2, 3, 4, 5, 6, 7, 8, 9, 0]])"
      ]
     },
     "execution_count": 120,
     "metadata": {},
     "output_type": "execute_result"
    }
   ],
   "source": [
    "p.reshape(1,10)#print(p)"
   ]
  },
  {
   "cell_type": "code",
   "execution_count": 122,
   "id": "dbc6e0f7",
   "metadata": {},
   "outputs": [
    {
     "data": {
      "text/plain": [
       "array([[1],\n",
       "       [2],\n",
       "       [3],\n",
       "       [4],\n",
       "       [5],\n",
       "       [6],\n",
       "       [7],\n",
       "       [8],\n",
       "       [9],\n",
       "       [0]])"
      ]
     },
     "execution_count": 122,
     "metadata": {},
     "output_type": "execute_result"
    }
   ],
   "source": [
    "p.reshape(10,1)"
   ]
  },
  {
   "cell_type": "code",
   "execution_count": 124,
   "id": "9347dfe7",
   "metadata": {},
   "outputs": [
    {
     "data": {
      "text/plain": [
       "array([1, 2, 3, 3, 2, 1])"
      ]
     },
     "execution_count": 124,
     "metadata": {},
     "output_type": "execute_result"
    }
   ],
   "source": [
    "# Using concatenate() method\n",
    "xx = np.array([1, 2, 3])\n",
    "yy = np.array([3, 2, 1])\n",
    "np.concatenate([xx, yy])"
   ]
  },
  {
   "cell_type": "code",
   "execution_count": 126,
   "id": "d0e23d8f",
   "metadata": {},
   "outputs": [
    {
     "data": {
      "text/plain": [
       "array([ 1,  2,  3,  3,  2,  1, 99, 99, 99])"
      ]
     },
     "execution_count": 126,
     "metadata": {},
     "output_type": "execute_result"
    }
   ],
   "source": [
    "z = [99, 99, 99]\n",
    "np.concatenate([xx, yy, z])"
   ]
  },
  {
   "cell_type": "code",
   "execution_count": 127,
   "id": "44885e66",
   "metadata": {},
   "outputs": [
    {
     "data": {
      "text/plain": [
       "array([[1, 2, 3],\n",
       "       [4, 5, 6],\n",
       "       [1, 2, 3],\n",
       "       [4, 5, 6]])"
      ]
     },
     "execution_count": 127,
     "metadata": {},
     "output_type": "execute_result"
    }
   ],
   "source": [
    "grid = np.array([[1, 2, 3],\n",
    "[4, 5, 6]])\n",
    "# concatenate along the first axis\n",
    "np.concatenate([grid, grid])"
   ]
  },
  {
   "cell_type": "code",
   "execution_count": 128,
   "id": "63c36303",
   "metadata": {},
   "outputs": [
    {
     "data": {
      "text/plain": [
       "array([[1, 2, 3, 1, 2, 3],\n",
       "       [4, 5, 6, 4, 5, 6]])"
      ]
     },
     "execution_count": 128,
     "metadata": {},
     "output_type": "execute_result"
    }
   ],
   "source": [
    "# concatenate along the second axis (zero-indexed)\n",
    "np.concatenate([grid, grid], axis=1)"
   ]
  },
  {
   "cell_type": "code",
   "execution_count": 3,
   "id": "81480b91",
   "metadata": {},
   "outputs": [],
   "source": [
    "#mongodb practice #26/12/22\n",
    "from pymongo import MongoClient"
   ]
  },
  {
   "cell_type": "code",
   "execution_count": 4,
   "id": "67d531e6",
   "metadata": {},
   "outputs": [
    {
     "data": {
      "text/plain": [
       "MongoClient(host=['localhost:27017'], document_class=dict, tz_aware=False, connect=True)"
      ]
     },
     "execution_count": 4,
     "metadata": {},
     "output_type": "execute_result"
    }
   ],
   "source": [
    "#gives mongodb default \n",
    "client=MongoClient()\n",
    "client"
   ]
  },
  {
   "cell_type": "code",
   "execution_count": 5,
   "id": "26872830",
   "metadata": {},
   "outputs": [],
   "source": [
    "#customly given like this.\n",
    "client=MongoClient(host='localhost',port=27017)"
   ]
  },
  {
   "cell_type": "code",
   "execution_count": 6,
   "id": "e487b8f0",
   "metadata": {},
   "outputs": [
    {
     "data": {
      "text/plain": [
       "'url for for the same thing \\n\\nclient = MongoClient(\"mongodb://localhost:27017\")\\n'"
      ]
     },
     "execution_count": 6,
     "metadata": {},
     "output_type": "execute_result"
    }
   ],
   "source": [
    "'''url for for the same thing \n",
    "\n",
    "client = MongoClient(\"mongodb://localhost:27017\")\n",
    "'''"
   ]
  },
  {
   "cell_type": "code",
   "execution_count": null,
   "id": "589aeb28",
   "metadata": {},
   "outputs": [],
   "source": []
  }
 ],
 "metadata": {
  "kernelspec": {
   "display_name": "Python 3 (ipykernel)",
   "language": "python",
   "name": "python3"
  },
  "language_info": {
   "codemirror_mode": {
    "name": "ipython",
    "version": 3
   },
   "file_extension": ".py",
   "mimetype": "text/x-python",
   "name": "python",
   "nbconvert_exporter": "python",
   "pygments_lexer": "ipython3",
   "version": "3.10.6"
  }
 },
 "nbformat": 4,
 "nbformat_minor": 5
}
